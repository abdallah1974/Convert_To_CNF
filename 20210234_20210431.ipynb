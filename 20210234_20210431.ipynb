{
  "nbformat": 4,
  "nbformat_minor": 0,
  "metadata": {
    "colab": {
      "provenance": []
    },
    "kernelspec": {
      "name": "python3",
      "display_name": "Python 3"
    },
    "language_info": {
      "name": "python"
    }
  },
  "cells": [
    {
      "cell_type": "code",
      "source": [
        "import random\n",
        "import re"
      ],
      "metadata": {
        "id": "CtE4gHHefFMB"
      },
      "execution_count": null,
      "outputs": []
    },
    {
      "cell_type": "code",
      "source": [
        "def last_index_of(lst, item):\n",
        "    try:\n",
        "        reversed_index = len(lst) - lst[::-1].index(item) - 1\n",
        "        return reversed_index\n",
        "    except ValueError:\n",
        "        return -1\n",
        "\n"
      ],
      "metadata": {
        "id": "79QfwgG_q-zf"
      },
      "execution_count": null,
      "outputs": []
    },
    {
      "cell_type": "code",
      "execution_count": null,
      "metadata": {
        "id": "nWxTjtCYmO83"
      },
      "outputs": [],
      "source": [
        "def eliminate_implication(expression):\n",
        "\n",
        "    expression = expression.split(\" \")\n",
        "    while '->' in expression:\n",
        "\n",
        "      index = expression.index('->')\n",
        "\n",
        "      left_index = index - 1\n",
        "      if expression[left_index] == \")\":\n",
        "         left_index = last_index_of(expression[0:index] , \"(\")\n",
        "\n",
        "\n",
        "\n",
        "      expression[left_index] = \"~\" + expression[left_index]\n",
        "      expression[index] = '|'\n",
        "\n",
        "\n",
        "\n",
        "\n",
        "    return ' '.join(expression)"
      ]
    },
    {
      "cell_type": "code",
      "source": [
        "def demorgan_law(expression):\n",
        "\n",
        "    expression = expression.split(\" \")\n",
        "    while '~(' in expression:\n",
        "      index = expression.index('~(')\n",
        "\n",
        "      first_oprand = index + 1\n",
        "      operator = index + 2\n",
        "      second_oprand = index + 3\n",
        "\n",
        "      expression[first_oprand] = \"~\" + expression[first_oprand]\n",
        "      expression[second_oprand] = \"~\" + expression[second_oprand]\n",
        "\n",
        "      if expression[operator] == '|':\n",
        "        expression[operator] = '&'\n",
        "      elif expression[operator] == '&' :\n",
        "        expression[operator] = '|'\n",
        "\n",
        "      expression[index] = \"(\"\n",
        "\n",
        "    return ' '.join(expression)\n"
      ],
      "metadata": {
        "id": "A9hI_yqG3aPG"
      },
      "execution_count": null,
      "outputs": []
    },
    {
      "cell_type": "code",
      "source": [
        "def remove_doubleNot(expression):\n",
        "\n",
        "  i = 0\n",
        "  while i < len(expression)-1 :\n",
        "    if expression[i] == '~' and expression[i+1] == '~' :\n",
        "      expression = expression[:i]+expression[i+2:]\n",
        "\n",
        "    else:\n",
        "      i += 1\n",
        "\n",
        "  return expression"
      ],
      "metadata": {
        "id": "yKQEvmXB8LnN"
      },
      "execution_count": null,
      "outputs": []
    },
    {
      "cell_type": "code",
      "source": [
        "def standardize_variable(expression):\n",
        "\n",
        "    variables = []\n",
        "    for i in range(len(expression)):\n",
        "      if expression[i] == '∀' or expression[i] == '∃':\n",
        "\n",
        "        if expression[i+1] not in variables:\n",
        "          variables.append(expression[i+1])\n",
        "        else:\n",
        "          randomLetter = chr(random.randint(ord('a'), ord('z')))\n",
        "\n",
        "          while randomLetter in variables :\n",
        "             randomLetter = chr(random.randint(ord('a'), ord('z')))\n",
        "\n",
        "          expression = expression[:i]+expression[i:].replace(expression[i+1] ,randomLetter  )\n",
        "          variables.append(randomLetter)\n",
        "\n",
        "    return expression\n"
      ],
      "metadata": {
        "id": "jXMBuOp2cVHZ"
      },
      "execution_count": null,
      "outputs": []
    },
    {
      "cell_type": "code",
      "source": [
        "def prenex_form(expression):\n",
        "\n",
        "  expression = expression.split(\" \")\n",
        "  for i in range(len(expression)) :\n",
        "\n",
        "    if expression[i][0] == '∃' :\n",
        "        expression.insert(0,expression[i])\n",
        "        expression.pop(i+1)\n",
        "\n",
        "  for i in range(len(expression)) :\n",
        "    if expression[i][0] == '∀':\n",
        "        expression.insert(0,expression[i])\n",
        "        expression.pop(i+1)\n",
        "\n",
        "  return ' '.join(expression)"
      ],
      "metadata": {
        "id": "DPJ19jaQ6wae"
      },
      "execution_count": null,
      "outputs": []
    },
    {
      "cell_type": "code",
      "source": [
        "def Skolemization(expression):\n",
        "  i = 0\n",
        "  cnt = 1\n",
        "\n",
        "  while i < len(expression):\n",
        "    if expression[i] == '∃':\n",
        "      last_universal = expression[:i].rfind('∀')\n",
        "      if last_universal != -1:\n",
        "          expression = expression[:i]+expression[i+2:].replace(expression[i+1] , 'f'+str(cnt)+'('+expression[last_universal+1]+')')\n",
        "          cnt += 1\n",
        "      else :\n",
        "          randomLetter = chr(random.randint(ord('A'), ord('Z')))\n",
        "          expression = expression[:i]+expression[i+2:].replace(expression[i+1] , randomLetter)\n",
        "\n",
        "    else:\n",
        "      i += 1\n",
        "  return expression\n"
      ],
      "metadata": {
        "id": "bvgQZRNLRAmc"
      },
      "execution_count": null,
      "outputs": []
    },
    {
      "cell_type": "code",
      "source": [
        "def eliminate_universal_quantifiers(expression):\n",
        "  expression = expression.split(\" \")\n",
        "\n",
        "  expression.remove('')\n",
        "  i = 0\n",
        "  while i < len(expression):\n",
        "\n",
        "    if expression[i][0] == '∀':\n",
        "      expression.pop(i)\n",
        "    else:\n",
        "      i +=1\n",
        "  return ' '.join(expression)\n"
      ],
      "metadata": {
        "id": "eWNEI0d4XzMr"
      },
      "execution_count": null,
      "outputs": []
    },
    {
      "cell_type": "code",
      "source": [
        "def distribution(expression):\n",
        "\n",
        "    clauses = []\n",
        "    if \") | (\" in expression:\n",
        "      index = expression.index(\") | (\")\n",
        "      first = expression[:index].split(\" \")\n",
        "      second = expression[index+4:].split(\" \")\n",
        "      for i in first :\n",
        "        for j in second :\n",
        "          if (i != '' and i != ')' and i != '(' and i != '&'and i != '|') and (j != '' and j != ')' and j != '(' and j != '&'and j != '|') :\n",
        "              clauses.append(\"( \"+i+\" | \"+ j+\" )\")\n",
        "\n",
        "\n",
        "\n",
        "\n",
        "    return \" & \".join(clauses)\n",
        "\n"
      ],
      "metadata": {
        "id": "F5n6KpJOuTpv"
      },
      "execution_count": null,
      "outputs": []
    },
    {
      "cell_type": "code",
      "source": [
        "\n",
        "def rename_clauses_variables(expression):\n",
        "  clauses = expression.split(\" & \")\n",
        "  variables = []\n",
        "  for clause in range(len(clauses)):\n",
        "\n",
        "    randomLetter = chr(random.randint(ord('a'), ord('z')))\n",
        "    while randomLetter in variables:\n",
        "      randomLetter = chr(random.randint(ord('a'), ord('z')))\n",
        "    for x in range(1,len(clauses[clause])-1):\n",
        "      if clauses[clause][x-1] == '(' and clauses[clause][x+1] == ')':\n",
        "          if clauses[clause][x] in variables :\n",
        "            clauses[clause] = clauses[clause][:x+1].replace(clauses[clause][x],randomLetter)+clauses[clause][x+1:]\n",
        "            variables.append(randomLetter)\n",
        "          else:\n",
        "            variables.append(clauses[clause][x])\n",
        "            randomLetter = clauses[clause][x]\n",
        "\n",
        "\n",
        "\n",
        "  return clauses\n"
      ],
      "metadata": {
        "id": "uG5OxjtW4-_9"
      },
      "execution_count": null,
      "outputs": []
    },
    {
      "cell_type": "code",
      "source": [
        "expression = \"∃x ∀y ∀z ( ( P(y) -> Q(z) ) -> ( P(x) -> Q(x) ) )\"\n",
        "\n",
        "# expression = \"∀x p(x) & ∃x q(x)\"\n",
        "\n",
        "print(\"Original Expression:\", expression)\n",
        "expression = eliminate_implication(expression)\n",
        "print(\"After Eliminating Implications:\",expression )\n",
        "print()\n",
        "print(\"Original Expression:\", expression)\n",
        "expression = demorgan_law(expression)\n",
        "print(\"After demorgan_law:\",expression )\n",
        "print()\n",
        "print(\"Original Expression:\", expression)\n",
        "expression = remove_doubleNot(expression)\n",
        "print(\"After remove_doubleNot:\",expression )\n",
        "print()\n",
        "print(\"Original Expression:\", expression)\n",
        "expression = standardize_variable(expression)\n",
        "print(\"After standardize_variable:\",expression )\n",
        "\n",
        "print()\n",
        "print(\"Original Expression:\", expression)\n",
        "expression = prenex_form(expression)\n",
        "print(\"After prenex_form:\",expression )\n",
        "\n",
        "print()\n",
        "print(\"Original Expression:\", expression)\n",
        "expression = Skolemization(expression)\n",
        "print(\"After Skolemization:\",expression )\n",
        "print()\n",
        "print(\"Original Expression:\", expression)\n",
        "expression = eliminate_universal_quantifiers(expression)\n",
        "print(\"After eliminate_universal_quantifiers:\",expression )\n",
        "\n",
        "print()\n",
        "print(\"Original Expression:\", expression)\n",
        "expression = distribution(expression)\n",
        "print(\"After distribution:\",expression )\n",
        "\n",
        "\n",
        "print()\n",
        "print(\"Original Expression:\", expression)\n",
        "expression = rename_clauses_variables(expression)\n",
        "print(\"After rename_clauses_variables:\")\n",
        "for x in expression:\n",
        "  print(x)\n"
      ],
      "metadata": {
        "colab": {
          "base_uri": "https://localhost:8080/"
        },
        "id": "ljBk-p7eq7eG",
        "outputId": "deeca4e1-3605-477d-fc30-59a78d9442c1"
      },
      "execution_count": null,
      "outputs": [
        {
          "output_type": "stream",
          "name": "stdout",
          "text": [
            "Original Expression: ∃x ∀y ∀z ( ( P(y) -> Q(z) ) -> ( P(x) -> Q(x) ) )\n",
            "After Eliminating Implications: ∃x ∀y ∀z ( ~( ~P(y) | Q(z) ) | ( ~P(x) | Q(x) ) )\n",
            "\n",
            "Original Expression: ∃x ∀y ∀z ( ~( ~P(y) | Q(z) ) | ( ~P(x) | Q(x) ) )\n",
            "After demorgan_law: ∃x ∀y ∀z ( ( ~~P(y) & ~Q(z) ) | ( ~P(x) | Q(x) ) )\n",
            "\n",
            "Original Expression: ∃x ∀y ∀z ( ( ~~P(y) & ~Q(z) ) | ( ~P(x) | Q(x) ) )\n",
            "After remove_doubleNot: ∃x ∀y ∀z ( ( P(y) & ~Q(z) ) | ( ~P(x) | Q(x) ) )\n",
            "\n",
            "Original Expression: ∃x ∀y ∀z ( ( P(y) & ~Q(z) ) | ( ~P(x) | Q(x) ) )\n",
            "After standardize_variable: ∃x ∀y ∀z ( ( P(y) & ~Q(z) ) | ( ~P(x) | Q(x) ) )\n",
            "\n",
            "Original Expression: ∃x ∀y ∀z ( ( P(y) & ~Q(z) ) | ( ~P(x) | Q(x) ) )\n",
            "After prenex_form: ∀z ∀y ∃x ( ( P(y) & ~Q(z) ) | ( ~P(x) | Q(x) ) )\n",
            "\n",
            "Original Expression: ∀z ∀y ∃x ( ( P(y) & ~Q(z) ) | ( ~P(x) | Q(x) ) )\n",
            "After Skolemization: ∀z ∀y  ( ( P(y) & ~Q(z) ) | ( ~P(f1(y)) | Q(f1(y)) ) )\n",
            "\n",
            "Original Expression: ∀z ∀y  ( ( P(y) & ~Q(z) ) | ( ~P(f1(y)) | Q(f1(y)) ) )\n",
            "After eliminate_universal_quantifiers: ( ( P(y) & ~Q(z) ) | ( ~P(f1(y)) | Q(f1(y)) ) )\n",
            "\n",
            "Original Expression: ( ( P(y) & ~Q(z) ) | ( ~P(f1(y)) | Q(f1(y)) ) )\n",
            "After distribution: ( P(y) | ~P(f1(y)) ) & ( P(y) | Q(f1(y)) ) & ( ~Q(z) | ~P(f1(y)) ) & ( ~Q(z) | Q(f1(y)) )\n",
            "\n",
            "Original Expression: ( P(y) | ~P(f1(y)) ) & ( P(y) | Q(f1(y)) ) & ( ~Q(z) | ~P(f1(y)) ) & ( ~Q(z) | Q(f1(y)) )\n",
            "After rename_clauses_variables:\n",
            "( P(y) | ~P(f1(y)) )\n",
            "( P(m) | Q(f1(m)) )\n",
            "( ~Q(z) | ~P(f1(z)) )\n",
            "( ~Q(i) | Q(f1(i)) )\n"
          ]
        }
      ]
    },
    {
      "cell_type": "code",
      "source": [],
      "metadata": {
        "id": "cRUMjn-Ozzop"
      },
      "execution_count": null,
      "outputs": []
    }
  ]
}